{
 "cells": [
  {
   "cell_type": "code",
   "execution_count": null,
   "id": "primary-luther",
   "metadata": {},
   "outputs": [],
   "source": [
    "import itertools\n",
    "import pandas as pd\n",
    "from matplotlib import pyplot as plt\n",
    "import numpy as np\n",
    "import sqlite3"
   ]
  },
  {
   "cell_type": "code",
   "execution_count": null,
   "id": "amber-paintball",
   "metadata": {},
   "outputs": [],
   "source": [
    "db_file = \"dgamr.db\"\n",
    "con = sqlite3.connect(db_file)\n",
    "df = pd.read_sql_query(\"SELECT * from runs\", con)"
   ]
  },
  {
   "cell_type": "code",
   "execution_count": null,
   "id": "activated-techno",
   "metadata": {},
   "outputs": [],
   "source": [
    "\"\"\"\n",
    "\n",
    "Grid convergence - comparing local vs global refinement.\n",
    "\n",
    "For linear elements we aim to preserve the quadratic convergence in the L2-norm. \n",
    "This is not possible with standard global refinement but can be achieved with \n",
    "aggressive local refinement at the singularity. \n",
    "\n",
    "\"\"\"\n",
    "\n",
    "markers = itertools.cycle([\"+\", \"*\", \"s\", \"o\", \"p\"])\n",
    "\n",
    "max_local_refinement = 10\n",
    "\n",
    "for local_ref in range(max_local_refinement):\n",
    "    data = df[df.local_refinements == local_ref]\n",
    "    if not data.empty:\n",
    "        plt.loglog(np.sqrt(data.num_dofs), data.error_l2, \n",
    "                   label=f\"local refinements: {local_ref}\", marker=next(markers))\n",
    "    \n",
    "x = np.linspace(1e1, 1e3)\n",
    "y = [3 * 1/xx**2 for xx in x]\n",
    "\n",
    "plt.loglog(x, y, ls=\"--\", label=\"$\\mathcal{O}(h^2)$\")\n",
    "\n",
    "plt.xlabel(\"$1/h$\")\n",
    "plt.ylabel(\"$\\|x^* - x_h\\|_0$\")\n",
    "plt.grid()\n",
    "plt.legend()\n",
    "plt.savefig(\"error_conv_vs_h.png\", dpi=300, bbox_inches=\"tight\")"
   ]
  },
  {
   "cell_type": "code",
   "execution_count": null,
   "id": "pressed-africa",
   "metadata": {},
   "outputs": [],
   "source": [
    "\"\"\"\n",
    "\n",
    "For quantitative insight, we now plot the error vs. the number of DoFs instead of 1/h on the x-axis.\n",
    "\n",
    "\"\"\"\n",
    "\n",
    "markers = itertools.cycle([\"+\", \"*\", \"s\", \"o\", \"p\"])\n",
    "\n",
    "max_local_refinement = 10\n",
    "\n",
    "for local_ref in range(max_local_refinement):\n",
    "    data = df[df.local_refinements == local_ref]\n",
    "    if not data.empty:\n",
    "        plt.loglog(data.num_dofs, data.error_l2, label=f\"local refinements: {local_ref}\", \n",
    "                   marker=next(markers))\n",
    "\n",
    "plt.xlabel(\"DoFs\")\n",
    "plt.ylabel(\"$\\|x^* - x_h\\|_0$\")\n",
    "plt.grid()\n",
    "plt.legend()\n",
    "plt.savefig(\"error_conv_vs_dofs.png\", dpi=300, bbox_inches=\"tight\")"
   ]
  },
  {
   "cell_type": "code",
   "execution_count": null,
   "id": "challenging-space",
   "metadata": {},
   "outputs": [],
   "source": [
    "con.close()"
   ]
  }
 ],
 "metadata": {
  "kernelspec": {
   "display_name": "Python 3",
   "language": "python",
   "name": "python3"
  },
  "language_info": {
   "codemirror_mode": {
    "name": "ipython",
    "version": 3
   },
   "file_extension": ".py",
   "mimetype": "text/x-python",
   "name": "python",
   "nbconvert_exporter": "python",
   "pygments_lexer": "ipython3",
   "version": "3.8.7"
  }
 },
 "nbformat": 4,
 "nbformat_minor": 5
}
