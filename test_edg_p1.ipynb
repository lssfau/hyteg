{
 "cells": [
  {
   "cell_type": "code",
   "execution_count": 28,
   "metadata": {},
   "outputs": [],
   "source": [
    "import sympy as sp\n",
    "from sympy.geometry import * \n",
    "from matplotlib import pyplot as plt\n",
    "import numpy as np\n",
    "from IPython.display import display, Latex\n",
    "from sympy import init_printing"
   ]
  },
  {
   "cell_type": "markdown",
   "metadata": {},
   "source": [
    "# Definition of test triangle"
   ]
  },
  {
   "cell_type": "code",
   "execution_count": 29,
   "metadata": {},
   "outputs": [],
   "source": [
    "# points\n",
    "p0 = sp.Matrix([sp.S(0), sp.S(0)])\n",
    "p1 = sp.Matrix([sp.S(1), sp.S(0)])\n",
    "p2 = sp.Matrix([sp.S(-0.2), sp.S(1)])\n",
    "p3 = sp.Matrix([sp.S(-1), sp.Rational(1, 2)])\n",
    "\n",
    "all_points = [p0, p1, p2, p3]\n",
    "\n",
    "# triangles\n",
    "triangle_1 =[p0, p1, p2]\n",
    "triangle_2 =[p0, p2, p3]\n",
    "\n",
    "# normal for side [p0, p2]\n",
    "n1 = - sp.Matrix([sp.S(1), sp.S(0.2)])"
   ]
  },
  {
   "cell_type": "markdown",
   "metadata": {},
   "source": [
    "Quick plot of configuration:"
   ]
  },
  {
   "cell_type": "code",
   "execution_count": 30,
   "metadata": {},
   "outputs": [
    {
     "data": {
      "image/png": "[encoded data removed]",
      "text/plain": [
       "<Figure size 800x800 with 1 Axes>"
      ]
     },
     "metadata": {
      "needs_background": "light"
     },
     "output_type": "display_data"
    }
   ],
   "source": [
    "%matplotlib inline\n",
    "\n",
    "def to_polygon(triangle, **kwargs):\n",
    "    return plt.Polygon(np.array([t.transpose().tolist()[0] for t in triangle]), **kwargs)  \n",
    "\n",
    "labels = [r'$p_0$',r'$p_1$',r'$p_2$',r'$p_3$']\n",
    "\n",
    "fig, ax = plt.subplots(figsize=(4,4), dpi=200)\n",
    "for i, an in enumerate(labels):\n",
    "    plt.annotate(an, (all_points[i][0], all_points[i][1]))\n",
    "plt.gca().add_patch(to_polygon(triangle_1, color='red'))\n",
    "plt.gca().add_patch(to_polygon(triangle_2, color='green'))\n",
    "ax.axis('equal')\n",
    "plt.show()\n"
   ]
  },
  {
   "cell_type": "markdown",
   "metadata": {},
   "source": [
    "# Shape functions definition in reference domain"
   ]
  },
  {
   "cell_type": "markdown",
   "metadata": {},
   "source": [
    "Coordinates:"
   ]
  },
  {
   "cell_type": "code",
   "execution_count": 31,
   "metadata": {},
   "outputs": [],
   "source": [
    "x, y = sp.symbols('x y')"
   ]
  },
  {
   "cell_type": "markdown",
   "metadata": {},
   "source": [
    "Test functions in reference space:"
   ]
  },
  {
   "cell_type": "code",
   "execution_count": 32,
   "metadata": {},
   "outputs": [],
   "source": [
    "phi0_hat = 1-x-y\n",
    "phi1_hat = x\n",
    "phi2_hat = y\n",
    "phi_i_hat = phi0_hat, phi1_hat, phi2_hat"
   ]
  },
  {
   "cell_type": "markdown",
   "metadata": {},
   "source": [
    "Vectorial DG basis function:"
   ]
  },
  {
   "cell_type": "code",
   "execution_count": 33,
   "metadata": {},
   "outputs": [],
   "source": [
    "def get_edg_basis(p0, p1, p2):\n",
    "    \"\"\"Returns the additional vectorial shape function\"\"\"\n",
    "    phi_vec = sp.Matrix([x, y]) - sp.Matrix([p0[0] + p1[0] + p2[0], p0[1] + p1[1] + p2[1]]) / sp.S(3)\n",
    "    return phi_vec"
   ]
  },
  {
   "cell_type": "markdown",
   "metadata": {},
   "source": [
    "Vectorial DG basis function in reference space:"
   ]
  },
  {
   "cell_type": "code",
   "execution_count": 34,
   "metadata": {},
   "outputs": [],
   "source": [
    "phi_edg_hat = get_edg_basis(p0, p1, sp.Matrix([0, 1]))\n",
    "phi_i_hat = phi_edg_hat, phi0_hat, phi1_hat, phi2_hat"
   ]
  },
  {
   "cell_type": "markdown",
   "metadata": {},
   "source": [
    "# Shape function definition on transformed triangle"
   ]
  },
  {
   "cell_type": "code",
   "execution_count": 35,
   "metadata": {},
   "outputs": [],
   "source": [
    "def get_affine_trafo(p0, p1, p2):\n",
    "    \"\"\"\n",
    "    Calculates the affine transformation from the reference triangle\n",
    "    to the triangle given by (p0, p1, p2)\n",
    "    \"\"\"\n",
    "    A1 = sp.Matrix([(p1 - p0).transpose().tolist()[0], (p2 - p0).transpose().tolist()[0]]).transpose()\n",
    "    #print(\"A in get_affine_trafo:\" + str(A1))   \n",
    "    b1 = p0\n",
    "    return A1, b1\n",
    "\n",
    "def get_basis(p0, p1, p2):\n",
    "    \"\"\"Returns the P1 basis on the triangle (p0, p1, p2).\"\"\"\n",
    "    A1, b1 = get_affine_trafo(p0, p1, p2)\n",
    "    A1_inv = A1.inv()\n",
    "    to_hat = A1_inv * (sp.Matrix([x, y]) - b1)\n",
    "    x_hat,y_hat = sp.symbols(r'\\hat{x} \\hat{y}')\n",
    "    phi0 = phi0_hat.subs(zip([x,y], [x_hat, y_hat])).subs(zip([x_hat,y_hat], to_hat))\n",
    "    phi1 = phi1_hat.subs(zip([x,y], [x_hat, y_hat])).subs(zip([x_hat,y_hat], to_hat))\n",
    "    phi2 = phi2_hat.subs(zip([x,y], [x_hat, y_hat])).subs(zip([x_hat,y_hat], to_hat))\n",
    "    return [phi0, phi1, phi2]"
   ]
  },
  {
   "cell_type": "markdown",
   "metadata": {},
   "source": [
    "Shape functions in affine space first triangle"
   ]
  },
  {
   "cell_type": "code",
   "execution_count": 36,
   "metadata": {},
   "outputs": [
    {
     "name": "stdout",
     "output_type": "stream",
     "text": [
      "Matrix([[x - 0.266666666666667], [y - 1/3]])\n",
      "Matrix([[x - 0.266666666666667], [y - 1/3]])\n"
     ]
    }
   ],
   "source": [
    "phi0_t1, phi1_t1, phi2_t1 = get_basis(p0, p1, p2)\n",
    "phi_edg_t1 = get_edg_basis(p0, p1, p2)\n",
    "\n",
    "print(phi_edg_t1)\n",
    "phi_t1 = phi_edg_t1, phi0_t1, phi1_t1, phi2_t1\n",
    "print(phi_edg_t1)"
   ]
  },
  {
   "cell_type": "markdown",
   "metadata": {},
   "source": [
    "Shape functions in affine space second triangle"
   ]
  },
  {
   "cell_type": "code",
   "execution_count": 37,
   "metadata": {},
   "outputs": [],
   "source": [
    "phi_0_t2, phi_2_t2, phi_3_t2 = get_basis(p0, p2, p3)\n",
    "phi_edg_t2 = get_edg_basis(p0, p2, p3)\n",
    "phi_t2 = phi_edg_t2, phi_0_t2, phi_2_t2, phi_3_t2"
   ]
  },
  {
   "cell_type": "markdown",
   "metadata": {},
   "source": [
    "Affine transformation"
   ]
  },
  {
   "cell_type": "code",
   "execution_count": 38,
   "metadata": {},
   "outputs": [],
   "source": [
    "A, b = get_affine_trafo(p0, p1, p2)\n",
    "A_inv = A.inv()"
   ]
  },
  {
   "cell_type": "markdown",
   "metadata": {},
   "source": [
    "Short sanity check: is our transformation correct?\n",
    "I.e. is\n",
    "$$ A * \\hat \\phi_{edg} ( A^{-1} ( x - b ) ) = \\phi_{edg} ( x ) $$"
   ]
  },
  {
   "cell_type": "code",
   "execution_count": 39,
   "metadata": {},
   "outputs": [
    {
     "data": {
      "text/plain": [
       "True"
      ]
     },
     "execution_count": 39,
     "metadata": {},
     "output_type": "execute_result"
    }
   ],
   "source": [
    "A * phi_edg_hat.subs(zip([x,y],A_inv*(sp.Matrix([x,y]) -b ))) == phi_edg_t1"
   ]
  },
  {
   "cell_type": "markdown",
   "metadata": {},
   "source": [
    "Unit vectors:"
   ]
  },
  {
   "cell_type": "code",
   "execution_count": 40,
   "metadata": {},
   "outputs": [],
   "source": [
    "e0 = sp.Matrix([1, 0])\n",
    "e1 = sp.Matrix([0, 1])"
   ]
  },
  {
   "cell_type": "markdown",
   "metadata": {},
   "source": [
    "1D integration variable $\\xi$:"
   ]
  },
  {
   "cell_type": "code",
   "execution_count": 41,
   "metadata": {},
   "outputs": [],
   "source": [
    "xi = sp.symbols(r'\\xi')"
   ]
  },
  {
   "cell_type": "code",
   "execution_count": 42,
   "metadata": {},
   "outputs": [],
   "source": [
    "def integrate_form(form, p2, p0):\n",
    "    \"\"\"Integrates the form in (x,y) coordinates along the path p0, p2\"\"\"\n",
    "    line_length = (p2 - p0).norm()\n",
    "    form1d = form.subs(zip([x,y], (p2 - p0)/sp.S(2)* xi + (p2 + p0)/sp.S(2)))\n",
    "    nodes = [sp.S(0), -sp.sqrt(sp.Rational(3,5)), +sp.sqrt(sp.Rational(3,5))]\n",
    "    weights = [sp.Rational(8, 9), sp.Rational(5, 9), sp.Rational(5, 9)]\n",
    "    su = sp.S(0)\n",
    "    for n,w in zip(nodes, weights):\n",
    "        su += w *form1d.subs(xi, n)\n",
    "    return su * (line_length/2)\n",
    "\n"
   ]
  },
  {
   "cell_type": "code",
   "execution_count": 43,
   "metadata": {},
   "outputs": [],
   "source": [
    "def nabla_vec(phi):\n",
    "    \"\"\"Calculates the jacobi matrix for a vectorial shape function\"\"\"\n",
    "    return sp.Matrix([[phi[0].diff(x), phi[0].diff(y)],\n",
    "                     [phi[1].diff(x), phi[1].diff(y)]])"
   ]
  },
  {
   "cell_type": "markdown",
   "metadata": {},
   "source": [
    "Sanity check do our transformations work?\n",
    "We integrate\n",
    "$$ \\int_{(p_0,p_2)} (\\nabla \\left( \\phi_0 \\begin{bmatrix} 1 \\\\ 0 \\end{bmatrix} \\right)n_1) \\cdot \\phi_{edg} dx$$\n",
    "on $(p_0, p_2)$ and compute\n",
    "$$ |e|\\int_{(\\hat{p}_0, \\hat{p}_2)}(\\hat{\\nabla} \\left(\\hat{\\phi}_0 \\begin{bmatrix} 1 \\\\ 0 \\end{bmatrix}\\right)  A^{-1}n_1) \\cdot A\\hat{\\phi}_{edg} d\\hat{x}$$ \n",
    "on $(\\hat p_0, \\hat p_2)$ and compare the results"
   ]
  },
  {
   "cell_type": "code",
   "execution_count": 44,
   "metadata": {},
   "outputs": [
    {
     "data": {
      "text/latex": [
       "$\\displaystyle \\text{True}$"
      ],
      "text/plain": [
       "True"
      ]
     },
     "execution_count": 44,
     "metadata": {},
     "output_type": "execute_result"
    }
   ],
   "source": [
    "# integral in the affine space\n",
    "result_affine = integrate_form((nabla_vec(phi0_t1 * e0) * n1).dot(phi_edg_t1), p2, p0)\n",
    "# integral in the reference space\n",
    "result_transformed = integrate_form(\n",
    "    (nabla_vec(phi0_hat * e0) * A_inv  * n1).dot(A * phi_edg_hat), sp.Matrix([0,1]), p0) * (p2-p0).norm()\n",
    "sp.Abs(result_affine - result_transformed) < 1e-15"
   ]
  },
  {
   "cell_type": "code",
   "execution_count": 45,
   "metadata": {},
   "outputs": [
    {
     "data": {
      "text/latex": [
       "$\\displaystyle \\text{True}$"
      ],
      "text/plain": [
       "True"
      ]
     },
     "execution_count": 45,
     "metadata": {},
     "output_type": "execute_result"
    }
   ],
   "source": [
    "# integral in the affine space\n",
    "result_affine = integrate_form((nabla_vec(phi_edg_t1) * n1).dot(phi0_t1 * e0), p2, p0)\n",
    "# integral in the reference space\n",
    "result_transformed = integrate_form(\n",
    "    (nabla_vec(A * phi_edg_hat) * A_inv  * n1).dot(phi0_hat * e0), sp.Matrix([0,1]), p0) * (p2-p0).norm()\n",
    "sp.Abs(result_affine - result_transformed) < 1e-15"
   ]
  },
  {
   "cell_type": "code",
   "execution_count": null,
   "metadata": {},
   "outputs": [],
   "source": []
  },
  {
   "cell_type": "markdown",
   "metadata": {},
   "source": [
    "# Consistency and Symmetry\n",
    "\n",
    "Consistency and symmetry terms of SIPG are\n",
    "$$ - \\int_e \\left(\\{ \\nabla u \\} \\cdot n \\right) \\, [v] + [u] \\, \\left(\\{ \\nabla v \\} \\cdot n\\right) ds $$\n",
    "for a trial function $u$ and test function $v$.\n",
    "\n",
    "Expanding them gives:\n",
    "$$ \\begin{aligned} \\left(\\{ \\nabla u \\} \\cdot n \\right) \\, [v] + [u] \\, \\left(\\{ \\nabla v \\} \\cdot n\\right) =& \\frac{1}{2} (\n",
    " (\\nabla u^+ \\cdot n^+) v^+\n",
    " - (\\nabla u^+ \\cdot n^+) v^-\n",
    " +\n",
    "  (\\nabla u^- \\cdot n^+) v^+\n",
    " - (\\nabla u^- \\cdot n^+) v^-\n",
    "\\\\\n",
    "& \\quad\n",
    " + (\\nabla v^+ \\cdot n^+) u^+\n",
    " - (\\nabla v^+ \\cdot n^+) u^-\n",
    " +\n",
    "  (\\nabla v^- \\cdot n^+) u^+\n",
    " - (\\nabla v^- \\cdot n^+) u^-\n",
    " )\n",
    "\\end{aligned}\n",
    "$$\n",
    "We have to assemble the contributions to $v^+$, i.e.\n",
    "$$\n",
    "\\frac{1}{2} \n",
    " \\left((\\nabla u^+ \\cdot n^+) v^+\n",
    " + (\\nabla u^- \\cdot n^+) v^+\n",
    " + (\\nabla v^+ \\cdot n^+) u^+\n",
    " - (\\nabla v^+ \\cdot n^+) u^-\n",
    " \\right)\n",
    "$$\n",
    "The \"inner\" contributions are therefore\n",
    "$$\n",
    "\\frac{1}{2} \n",
    " \\left((\\nabla u^+ \\cdot n^+) v^+\n",
    " + (\\nabla v^+ \\cdot n^+) u^+\n",
    " \\right)\n",
    "$$\n",
    "and the \"outer\" contributions\n",
    "$$\n",
    "\\frac{1}{2} \\left(\n",
    " (\\nabla u^- \\cdot n^+) v^+\n",
    " - (\\nabla v^+ \\cdot n^+) u^-\n",
    " \\right)\n",
    "$$\n",
    "\n"
   ]
  },
  {
   "cell_type": "code",
   "execution_count": 46,
   "metadata": {},
   "outputs": [],
   "source": [
    "def symmetry_and_consistency_inner(u, v):\n",
    "    consistency = - 0.5 * integrate_form((nabla_vec(u) * n1).dot(v), p2, p0)\n",
    "    symmetry = - 0.5 * integrate_form((nabla_vec(v) * n1).dot(u), p2, p0)\n",
    "    return consistency + symmetry\n",
    "\n",
    "def symmetry_and_consistency_outer(u, v):\n",
    "    consistency = - 0.5 * integrate_form((nabla_vec(u) * n1).dot(v), p2, p0)\n",
    "    symmetry = + 0.5 * integrate_form((nabla_vec(v) * n1).dot(u), p2, p0)\n",
    "    return consistency + symmetry\n",
    "    \n",
    "def symmetry_outer(u, v):\n",
    "    return + 0.5 * integrate_form((nabla_vec(v) * n1).dot(u), p2, p0)\n",
    "\n",
    "def consistency_outer (u, v):\n",
    "    return - 0.5 * integrate_form((nabla_vec(u) * n1).dot(v), p2, p0)\n"
   ]
  },
  {
   "cell_type": "markdown",
   "metadata": {},
   "source": [
    "# Penalty\n",
    "Penalty terms of the SIPG are\n",
    "$$ \\frac{\\sigma}{|e|} \\int_e [u] \\cdot [v] ds $$\n",
    "for a trial function $u$ and test function $v$.\n",
    "Expanding them gives:\n",
    "$$ [u] \\cdot [v] = u^+ \\cdot v^+- u^- \\cdot v^+- u^+ \\cdot v^-+ u^- \\cdot v^- $$\n",
    "We have to assemble the contributions to $v^+$, i.e.\n",
    "$$\\frac{1}{|e|} \\left( u^+ \\cdot v^+- u^- \\cdot v^+ \\right) $$\n",
    "The \"inner\" contributions are therefore\n",
    "$$\\frac{1}{|e|} u^+ \\cdot v^+ $$\n",
    "and the outer contribution is\n",
    "$$- \\frac{1}{|e|} u^- \\cdot v^+ $$\n"
   ]
  },
  {
   "cell_type": "code",
   "execution_count": 47,
   "metadata": {},
   "outputs": [],
   "source": [
    "def penalty_inner(u, v):\n",
    "    return integrate_form(u.dot(v), p2, p0) / (p2 - p0).norm()\n",
    "\n",
    "def penalty_outer(u, v):\n",
    "    return - integrate_form(u.dot(v), p2, p0) / (p2 - p0).norm()"
   ]
  },
  {
   "cell_type": "code",
   "execution_count": 48,
   "metadata": {},
   "outputs": [
    {
     "data": {
      "text/plain": [
       "[0.632278419685505,\n",
       " -0.265149014706825,\n",
       " 0.265149014706825,\n",
       " -0.265149014706825,\n",
       " 0,\n",
       " -0.265149014706825,\n",
       " 0.265149014706825,\n",
       " -0.265149014706825,\n",
       " -0.101980390271856]"
      ]
     },
     "execution_count": 48,
     "metadata": {},
     "output_type": "execute_result"
    }
   ],
   "source": [
    "[-symmetry_and_consistency_inner(phi_t1[i] * e0, phi_t1[j]* e0) for i in range(1,4) for j in range(1,4)]"
   ]
  },
  {
   "cell_type": "code",
   "execution_count": 49,
   "metadata": {},
   "outputs": [
    {
     "data": {
      "text/plain": [
       "[0.33333333333333337,\n",
       " 0.0,\n",
       " 0.1666666666666667,\n",
       " 0.0,\n",
       " 0.0,\n",
       " 0.0,\n",
       " 0.1666666666666667,\n",
       " 0.0,\n",
       " 0.3333333333333333]"
      ]
     },
     "execution_count": 49,
     "metadata": {},
     "output_type": "execute_result"
    }
   ],
   "source": [
    "[float(penalty_inner(phi_t1[i] * e0, phi_t1[j]* e0)) for i in range(1,4) for j in range(1,4)]"
   ]
  },
  {
   "cell_type": "markdown",
   "metadata": {},
   "source": [
    "Test values **P1-to-EDG** *inner* coupling"
   ]
  },
  {
   "cell_type": "code",
   "execution_count": 50,
   "metadata": {},
   "outputs": [
    {
     "data": {
      "text/plain": [
       "[0.486786396230991, -0.194442610785005, 0.217558165913292]"
      ]
     },
     "execution_count": 50,
     "metadata": {},
     "output_type": "execute_result"
    }
   ],
   "source": [
    "[symmetry_and_consistency_inner(phi_t1[i] * e0, phi_edg_t1) for i in range(1,4)]"
   ]
  },
  {
   "cell_type": "code",
   "execution_count": 51,
   "metadata": {},
   "outputs": [
    {
     "data": {
      "text/plain": [
       "[-0.16666666666666674, 0.0, -0.2]"
      ]
     },
     "execution_count": 51,
     "metadata": {},
     "output_type": "execute_result"
    }
   ],
   "source": [
    "[float(penalty_inner(phi_t1[i] * e0, phi_edg_t1)) for i in range(1,4)]"
   ]
  },
  {
   "cell_type": "markdown",
   "metadata": {},
   "source": [
    "Test values **P1-to-EDG** *outer* coupling"
   ]
  },
  {
   "cell_type": "code",
   "execution_count": 52,
   "metadata": {},
   "outputs": [
    {
     "data": {
      "text/plain": [
       "[-0.325581838571628, -0.400367458104322, 0.216047345316672]"
      ]
     },
     "execution_count": 52,
     "metadata": {},
     "output_type": "execute_result"
    }
   ],
   "source": [
    "[symmetry_and_consistency_outer(phi_t2[i] * e0, phi_edg_t1) for i in range(1,4)]"
   ]
  },
  {
   "cell_type": "code",
   "execution_count": 53,
   "metadata": {},
   "outputs": [
    {
     "data": {
      "text/plain": [
       "[0.16666666666666666, 0.2, 0.0]"
      ]
     },
     "execution_count": 53,
     "metadata": {},
     "output_type": "execute_result"
    }
   ],
   "source": [
    "[float(penalty_outer(phi_t2[i] * e0, phi_edg_t1)) for i in range(1,4)]"
   ]
  },
  {
   "cell_type": "markdown",
   "metadata": {},
   "source": [
    "Test values **EDG-EDG** *inner* coupling"
   ]
  },
  {
   "cell_type": "code",
   "execution_count": 54,
   "metadata": {},
   "outputs": [
    {
     "data": {
      "text/latex": [
       "$\\displaystyle -0.339934634239519$"
      ],
      "text/plain": [
       "-0.339934634239519"
      ]
     },
     "execution_count": 54,
     "metadata": {},
     "output_type": "execute_result"
    }
   ],
   "source": [
    "symmetry_and_consistency_inner(phi_edg_t1, phi_edg_t1)"
   ]
  },
  {
   "cell_type": "code",
   "execution_count": 55,
   "metadata": {},
   "outputs": [
    {
     "data": {
      "text/plain": [
       "0.24888888888888894"
      ]
     },
     "execution_count": 55,
     "metadata": {},
     "output_type": "execute_result"
    }
   ],
   "source": [
    "float(penalty_inner(phi_edg_t1, phi_edg_t1))"
   ]
  },
  {
   "cell_type": "markdown",
   "metadata": {},
   "source": [
    "Test values **EDG-EDG** *outer* coupling"
   ]
  },
  {
   "cell_type": "code",
   "execution_count": 56,
   "metadata": {},
   "outputs": [
    {
     "data": {
      "text/latex": [
       "$\\displaystyle -0.322937902527543$"
      ],
      "text/plain": [
       "-0.322937902527543"
      ]
     },
     "execution_count": 56,
     "metadata": {},
     "output_type": "execute_result"
    }
   ],
   "source": [
    "symmetry_and_consistency_outer(phi_edg_t2, phi_edg_t1)"
   ]
  },
  {
   "cell_type": "code",
   "execution_count": 57,
   "metadata": {},
   "outputs": [
    {
     "data": {
      "text/plain": [
       "0.02333333333333332"
      ]
     },
     "execution_count": 57,
     "metadata": {},
     "output_type": "execute_result"
    }
   ],
   "source": [
    "float(penalty_outer(phi_edg_t2, phi_edg_t1))"
   ]
  },
  {
   "cell_type": "markdown",
   "metadata": {},
   "source": [
    "# DivT and Pressure\n",
    "\n",
    "Basis function $P^0$ pressure space:"
   ]
  },
  {
   "cell_type": "code",
   "execution_count": 58,
   "metadata": {},
   "outputs": [],
   "source": [
    "psi = sp.S(1)"
   ]
  },
  {
   "cell_type": "markdown",
   "metadata": {},
   "source": [
    "The transposed divergence term has the form\n",
    "$$ \\int_e \\{p\\}[v] \\cdot n_e ds $$\n",
    "for trial function $p$ and test function $v$.\n",
    "Thus\n",
    "$$ \\{p\\}[v] = \\frac{1}{2}(p^+ v^+ + p^- v^+ - p^+ v^- - p^- v^- ) n^+ $$\n",
    "We have to assemble the contributions $v^+$, i.e.\n",
    "$$ \\frac{1}{2}(p^+ v^+ + p^- v^+ ) n^+ $$\n",
    "The \"inner\" contribution\n",
    "$$ \\frac{1}{2}p^+ v^+ n^+$$\n",
    "and the outer contribution is\n",
    "$$ \\frac{1}{2}p^- v^+ n^+$$"
   ]
  },
  {
   "cell_type": "code",
   "execution_count": 59,
   "metadata": {},
   "outputs": [],
   "source": [
    "def divt(p, v):\n",
    "    return 0.5 * integrate_form(v.dot(n1) * p, p2, p0)"
   ]
  },
  {
   "cell_type": "markdown",
   "metadata": {},
   "source": [
    "Test values **P1-P0** *inner* and *outer*:"
   ]
  },
  {
   "cell_type": "code",
   "execution_count": 60,
   "metadata": {},
   "outputs": [
    {
     "data": {
      "text/plain": [
       "[-0.254950975679639, 0, -0.254950975679639]"
      ]
     },
     "execution_count": 60,
     "metadata": {},
     "output_type": "execute_result"
    }
   ],
   "source": [
    "[divt(psi, phi_t1[i]*e0) for i in range(1,4)]"
   ]
  },
  {
   "cell_type": "markdown",
   "metadata": {},
   "source": [
    "Test values **EDG-P0** *inner* and *outer*"
   ]
  },
  {
   "cell_type": "code",
   "execution_count": 61,
   "metadata": {},
   "outputs": [
    {
     "data": {
      "text/latex": [
       "$\\displaystyle 0.16996731711976$"
      ],
      "text/plain": [
       "0.169967317119760"
      ]
     },
     "execution_count": 61,
     "metadata": {},
     "output_type": "execute_result"
    }
   ],
   "source": [
    "divt(psi, phi_edg_t1)"
   ]
  },
  {
   "cell_type": "markdown",
   "metadata": {},
   "source": [
    "# Div \n",
    "The divergence term has the form\n",
    "$$ \\int_e \\{q\\}[u] \\cdot n_e ds $$\n",
    "for trial function $u$ and test function $q$.\n",
    "Thus\n",
    "$$ \\{q\\}[u] = \\frac{1}{2}(q^+ u^+ + q^- u^+ - q^+ u^- - q^- u^- ) n^+ $$\n",
    "We have to assemble the contributions $q^+$, i.e.\n",
    "$$ \\frac{1}{2}(q^+ u^+ - q^+ u^-) n^+ $$\n",
    "The \"inner\" contribution\n",
    "$$ \\frac{1}{2}q^+ u^+ n^+$$\n",
    "and the outer contribution is\n",
    "$$ -\\frac{1}{2}q^+ u^- n^+$$"
   ]
  },
  {
   "cell_type": "code",
   "execution_count": 62,
   "metadata": {},
   "outputs": [],
   "source": [
    "def div_inner(u, q):\n",
    "    return 0.5 * integrate_form(u.dot(n1) * q, p2, p0)\n",
    "\n",
    "def div_outer(u, q):\n",
    "    return -0.5 * integrate_form(u.dot(n1) * q, p2, p0)"
   ]
  },
  {
   "cell_type": "markdown",
   "metadata": {},
   "source": [
    "Test values **P0-P1** *inner*:"
   ]
  },
  {
   "cell_type": "code",
   "execution_count": 63,
   "metadata": {},
   "outputs": [
    {
     "data": {
      "text/plain": [
       "[-0.254950975679639, 0, -0.254950975679639]"
      ]
     },
     "execution_count": 63,
     "metadata": {},
     "output_type": "execute_result"
    }
   ],
   "source": [
    "[div_inner(phi_t1[i]*e0, psi) for i in range(1,4)]"
   ]
  },
  {
   "cell_type": "markdown",
   "metadata": {},
   "source": [
    "Test values **P0-EDG** *inner*:"
   ]
  },
  {
   "cell_type": "code",
   "execution_count": 64,
   "metadata": {},
   "outputs": [
    {
     "data": {
      "text/latex": [
       "$\\displaystyle 0.16996731711976$"
      ],
      "text/plain": [
       "0.169967317119760"
      ]
     },
     "execution_count": 64,
     "metadata": {},
     "output_type": "execute_result"
    }
   ],
   "source": [
    "div_inner(phi_edg_t1, psi)"
   ]
  },
  {
   "cell_type": "markdown",
   "metadata": {},
   "source": [
    "Test values **P0-P1** *outer*:"
   ]
  },
  {
   "cell_type": "code",
   "execution_count": 65,
   "metadata": {},
   "outputs": [
    {
     "data": {
      "text/plain": [
       "[0.254950975679639, 0.254950975679639, 0]"
      ]
     },
     "execution_count": 65,
     "metadata": {},
     "output_type": "execute_result"
    }
   ],
   "source": [
    "[div_outer(phi_t2[i]*e0, psi) for i in range(1,4)]"
   ]
  },
  {
   "cell_type": "markdown",
   "metadata": {},
   "source": [
    "Test values **P0-EDG** *outer*:"
   ]
  },
  {
   "cell_type": "code",
   "execution_count": 66,
   "metadata": {},
   "outputs": [
    {
     "data": {
      "text/latex": [
       "$\\displaystyle 0.152970585407784$"
      ],
      "text/plain": [
       "0.152970585407784"
      ]
     },
     "execution_count": 66,
     "metadata": {},
     "output_type": "execute_result"
    }
   ],
   "source": [
    "div_outer(phi_edg_t2, psi)"
   ]
  },
  {
   "cell_type": "markdown",
   "metadata": {},
   "source": [
    "# Edge integrals with $\\epsilon()$\n",
    "The symmetric gradient $\\epsilon()$ is defined as \n",
    "    $$\\begin{align}\n",
    "    \\epsilon(u) = \\frac{1}{2}(\\nabla u + (\\nabla u)^T)\n",
    "    \\end{align}$$"
   ]
  },
  {
   "cell_type": "code",
   "execution_count": 67,
   "metadata": {},
   "outputs": [],
   "source": [
    "def epsilon(phi):\n",
    "    \"\"\"Calculates the symmetric gradient for a vectorial shape function\"\"\"\n",
    "    gradient = sp.Matrix([[phi[0].diff(x), phi[0].diff(y)],\n",
    "                     [phi[1].diff(x), phi[1].diff(y)]])\n",
    "    return 0.5*(gradient + sp.transpose(gradient))"
   ]
  },
  {
   "cell_type": "markdown",
   "metadata": {},
   "source": [
    "The following \n",
    "Consistency and symmetry terms of SIPG with epsilon operator are\n",
    "$$ - \\int_e \\left(\\{ \\epsilon(u) \\} \\cdot n \\right) \\, [v] + [u] \\, \\left(\\{  \\epsilon(v) \\} \\cdot n\\right) ds $$\n",
    "for a trial function $u$ and test function $v$.\n",
    "\n",
    "Expanding them gives:\n",
    "$$ \\begin{aligned} \\left(\\{  \\epsilon(u) \\} \\cdot n \\right) \\, [v] + [u] \\, \\left(\\{  \\epsilon(v) \\} \\cdot n\\right) =& \\frac{1}{2} (\n",
    " ( \\epsilon(u)^+ \\cdot n^+) v^+\n",
    " - (v^+ \\cdot n^+) v^-\n",
    " +\n",
    "  ( \\epsilon(u)^- \\cdot n^+) v^+\n",
    " - ( \\epsilon(u)^- \\cdot n^+) v^-\n",
    "\\\\\n",
    "& \\quad\n",
    " + ( \\epsilon(v)^+ \\cdot n^+) u^+\n",
    " - (\\epsilon(v)^+ \\cdot n^+) u^-\n",
    " +\n",
    "  (\\epsilon(v)^- \\cdot n^+) u^+\n",
    " - (\\epsilon(v)^- \\cdot n^+) u^-\n",
    " )\n",
    "\\end{aligned}\n",
    "$$\n",
    "We have to assemble the contributions to $v^+$, i.e.\n",
    "$$\n",
    "\\frac{1}{2} \n",
    " \\left((\\epsilon(u)^+ \\cdot n^+) v^+\n",
    " + (\\epsilon(u)^- \\cdot n^+) v^+\n",
    " + (\\epsilon(v)^+ \\cdot n^+) u^+\n",
    " - (\\epsilon(v)^+ \\cdot n^+) u^-\n",
    " \\right)\n",
    "$$\n",
    "The \"inner\" contributions are therefore\n",
    "$$\n",
    "\\frac{1}{2} \n",
    " \\left((\\epsilon(u)^+ \\cdot n^+) v^+\n",
    " + (\\epsilon(v)^+ \\cdot n^+) u^+\n",
    " \\right)\n",
    "$$\n",
    "and the \"outer\" contributions\n",
    "$$\n",
    "\\frac{1}{2} \\left(\n",
    " (\\epsilon(u)^- \\cdot n^+) v^+\n",
    " - (\\epsilon(v)^+ \\cdot n^+) u^-\n",
    " \\right)\n",
    "$$\n"
   ]
  },
  {
   "cell_type": "code",
   "execution_count": 68,
   "metadata": {},
   "outputs": [],
   "source": [
    "def symmetry_and_consistency_inner_eps(u, v):\n",
    "    consistency = - 0.5 * integrate_form((epsilon(u) * n1).dot(v), p2, p0)\n",
    "    symmetry = - 0.5 * integrate_form((epsilon(v) * n1).dot(u), p2, p0)\n",
    "    return consistency + symmetry\n",
    "\n",
    "def symmetry_and_consistency_outer_eps(u, v):\n",
    "    consistency = - 0.5 * integrate_form((epsilon(u) * n1).dot(v), p2, p0)\n",
    "    symmetry = + 0.5 * integrate_form((epsilon(v) * n1).dot(u), p2, p0)\n",
    "    return consistency + symmetry\n",
    "    \n",
    "def symmetry_outer_eps(u, v):\n",
    "    return + 0.5 * integrate_form((epsilon(v) * n1).dot(u), p2, p0)\n",
    "\n",
    "def consistency_outer_eps(u, v):\n",
    "    return - 0.5 * integrate_form((epsilon(u) * n1).dot(v), p2, p0)"
   ]
  },
  {
   "cell_type": "markdown",
   "metadata": {},
   "source": [
    "Precalculating the terms of the weak formulation with edge integrals and $\\epsilon$: \\\n",
    "Test values **P1-to-EDG** *inner* coupling"
   ]
  },
  {
   "cell_type": "code",
   "execution_count": 74,
   "metadata": {},
   "outputs": [
    {
     "data": {
      "text/plain": [
       "[0.413360515235255, -0.182204963952382, 0.278746400076406]"
      ]
     },
     "execution_count": 74,
     "metadata": {},
     "output_type": "execute_result"
    }
   ],
   "source": [
    "[symmetry_and_consistency_inner_eps(phi_t1[i] * e0, phi_edg_t1) for i in range(1,4)]"
   ]
  },
  {
   "cell_type": "markdown",
   "metadata": {},
   "source": [
    "Test values **P1-to-EDG** *outer* coupling"
   ]
  },
  {
   "cell_type": "code",
   "execution_count": 78,
   "metadata": {},
   "outputs": [
    {
     "data": {
      "text/plain": [
       "[-0.426278031336357, 0.156029997115939, -0.239653917138861]"
      ]
     },
     "execution_count": 78,
     "metadata": {},
     "output_type": "execute_result"
    }
   ],
   "source": [
    "[symmetry_and_consistency_outer_eps( phi_t1[i] * e0, phi_edg_t2) for i in range(1,4)]"
   ]
  },
  {
   "cell_type": "markdown",
   "metadata": {},
   "source": [
    "Test values **EDG-EDG** *inner* coupling"
   ]
  },
  {
   "cell_type": "code",
   "execution_count": 195,
   "metadata": {},
   "outputs": [
    {
     "data": {
      "text/latex": [
       "$\\displaystyle -0.339934634239519$"
      ],
      "text/plain": [
       "-0.339934634239519"
      ]
     },
     "execution_count": 195,
     "metadata": {},
     "output_type": "execute_result"
    }
   ],
   "source": [
    "symmetry_and_consistency_inner_eps(phi_edg_t1, phi_edg_t1)"
   ]
  },
  {
   "cell_type": "markdown",
   "metadata": {},
   "source": [
    "Test values **EDG-EDG** *outer* coupling"
   ]
  },
  {
   "cell_type": "code",
   "execution_count": 196,
   "metadata": {},
   "outputs": [
    {
     "data": {
      "text/latex": [
       "$\\displaystyle -0.322937902527543$"
      ],
      "text/plain": [
       "-0.322937902527543"
      ]
     },
     "execution_count": 196,
     "metadata": {},
     "output_type": "execute_result"
    }
   ],
   "source": [
    "symmetry_and_consistency_outer_eps(phi_edg_t2, phi_edg_t1)"
   ]
  },
  {
   "cell_type": "markdown",
   "metadata": {},
   "source": [
    "# Volume integrals with $\\epsilon()$\n",
    "\n",
    "In the enriched Galerkin scheme, both u and v are linear functions, such that the product of their symmetric gradients is constant. Therefore, taking the function value together with the area of the given triangle integrates the product exactly."
   ]
  },
  {
   "cell_type": "code",
   "execution_count": 140,
   "metadata": {},
   "outputs": [],
   "source": [
    "def integrate_constant_form_triangle(form, a0, a1, a2):\n",
    "    return  form*Triangle(a0, a1, a2).area"
   ]
  },
  {
   "cell_type": "markdown",
   "metadata": {},
   "source": [
    "The volume integral over triangle $T$ that stems from the diffusion term is given by:\n",
    "$$\n",
    "\\begin{aligned}\n",
    "    \\int_T \\epsilon(u):\\epsilon(v)\n",
    "\\end{aligned}\n",
    "$$"
   ]
  },
  {
   "cell_type": "markdown",
   "metadata": {},
   "source": [
    "\n",
    "Check if the integration on the affine and the reference space matches (with $\\phi$ defined on triangle 1, $\\hat{\\phi}$ defined on the reference triangle):\n",
    "$$ \\begin{align}\n",
    "     \\int_T \\epsilon(\\phi_{edg}): \\epsilon(\\phi_i) \n",
    "        &\\stackrel{!}{=} 2 |T| \\int_{\\hat{T}} \\hat{\\epsilon}(A\\hat{\\phi}_{edg}):\\hat{\\epsilon}(\\hat{\\phi}_{i}) \\quad \\text{(map basis functions to $\\hat{T}, \\phi_{edg}$ needs additional $A$) }\\\\\n",
    "    &=  \\frac{|T|}{2} \\int_{\\hat{T}} (\\hat{\\nabla} (A\\hat{\\phi}_{edg})A^{-1} +A^{-T}\\hat{\\nabla}(A\\hat{\\phi}_{edg})^T):(\\hat{\\nabla}(\\hat{\\phi}_{i})A^{-1} + A^{-T}\\hat{\\nabla}(\\hat{\\phi}_{i})^T)  \\\\\n",
    "\\text{with: i = 0,1,2,edg}\\\\\n",
    "\\end{align} $$"
   ]
  },
  {
   "cell_type": "code",
   "execution_count": 141,
   "metadata": {},
   "outputs": [],
   "source": [
    "# implements : operator\n",
    "def double_contraction(mat_1, mat_2):\n",
    "    return sp.Matrix([[1,1]])*sp.matrix_multiply_elementwise(mat_1,mat_2)*sp.Matrix([[1],[1]])"
   ]
  },
  {
   "cell_type": "code",
   "execution_count": 142,
   "metadata": {},
   "outputs": [],
   "source": [
    "# for nice output\n",
    "def print_basis_idx(i):\n",
    "    if i == 0:\n",
    "        return \"{edg}\"\n",
    "    else:\n",
    "        return i"
   ]
  },
  {
   "cell_type": "code",
   "execution_count": 143,
   "metadata": {},
   "outputs": [],
   "source": [
    "# choose basis function and triangle points\n",
    "def choose_basis(i, triangle):\n",
    "    pt0 = p0\n",
    "    basis_idx = print_basis_idx(i)\n",
    "    if triangle == 1:\n",
    "        pt1 = p1\n",
    "        pt2 = p2\n",
    "        phi_i = phi_t1[i]\n",
    "        phi_edg_t = phi_edg_t1\n",
    "    elif triangle == 2:\n",
    "        pt1 = p2\n",
    "        pt2 = p3\n",
    "        phi_i = phi_t2[i]\n",
    "        phi_edg_t = phi_edg_t2\n",
    "    return phi_edg_t, phi_i, pt0, pt1, pt2"
   ]
  },
  {
   "cell_type": "code",
   "execution_count": 147,
   "metadata": {},
   "outputs": [],
   "source": [
    "# evaluate integral in affine space\n",
    "def evaluate_affine(phi_edg_t, phi_i, i, pt0, pt1, pt2, triangle):\n",
    "   if i == 0:\n",
    "        form_affine = double_contraction(epsilon(phi_edg_t),epsilon(phi_i)) # phi_edg is already vectorial\n",
    "   else:\n",
    "        form_affine = double_contraction(epsilon(phi_edg_t),epsilon(phi_i * e0))\n",
    "    \n",
    "   result_affine = integrate_constant_form_triangle(form_affine, pt0, pt1, pt2)  \n",
    "   display(Latex(f'On triangle {triangle}: $\\int_T \\epsilon(\\phi_{{edg}}) : \\epsilon(\\phi_{ print_basis_idx(i)}) =  {result_affine[0]}$'))\n",
    "   return result_affine\n",
    "\n",
    "# evaluate integral in reference space\n",
    "def evaluate_reference(phi_edg_t, phi_i, i, pt0, pt1, pt2, triangle):\n",
    "    A, b = get_affine_trafo(pt0, pt1, pt2)\n",
    "    A_inv = A.inv()\n",
    "    #grad_phi_edg = A_inv.T*A*nabla_vec(phi_edg_hat)\n",
    "    \n",
    "    # gradients in reference space\n",
    "    grad_phi_edg = A*nabla_vec(phi_edg_hat)*A_inv\n",
    "    # case distinction: basis is edg or not: add A*\n",
    "    if(i == 0):\n",
    "    #    grad_phi_i = A_inv.T*nabla_vec(A*phi_i_hat[i])\n",
    "        grad_phi_i = nabla_vec(A*phi_i_hat[i])*A_inv  \n",
    "    else:\n",
    "    #    grad_phi_i = A_inv.T*nabla_vec(phi_i_hat[i]*e0)\n",
    "        grad_phi_i = nabla_vec(phi_i_hat[i]*e0)*A_inv\n",
    "        \n",
    "    # form in reference space\n",
    "    form_reference = double_contraction(grad_phi_edg + sp.Transpose(grad_phi_edg), grad_phi_i + sp.Transpose(grad_phi_i))\n",
    "    \n",
    "    # integration in reference\n",
    "    result_reference = integrate_constant_form_triangle(form_reference, p0, e0, e1) * 0.5 * Triangle(pt0, pt1, pt2).area\n",
    "    print(result_reference)\n",
    "    \n",
    "    display(Latex(f'On triangle {triangle} (Reference): $2 |T| \\int_{{\\hat{{T}}}} \\hat{{\\epsilon}}(A\\hat{{\\phi}}_{{edg}}):\\hat{{\\epsilon}}(\\hat{{\\phi_{ print_basis_idx(i)}}})  =  {result_reference[0]}$'))\n",
    "    return result_reference\n",
    "\n",
    "# checks int_T eps(phi_edg) : eps(phi_i), reference vs affine for phi_edg, phi_i pairings, i = 0,1,2,edg\n",
    "def check_volume_int(i, triangle):\n",
    "    \n",
    "    # points of chosen triangle, basis on chosen triangle\n",
    "    phi_edg_t, phi_i, pt0, pt1, pt2, = choose_basis(i, triangle)\n",
    "    \n",
    "    \n",
    "    # integral in the affine space\n",
    "    result_affine = evaluate_affine(phi_edg_t, phi_i, i, pt0, pt1, pt2, triangle)\n",
    "    print(result_affine)\n",
    "\n",
    "    # integral in the reference space\n",
    "    result_reference = evaluate_reference(phi_edg_t, phi_i, i, pt0, pt1, pt2, triangle)\n",
    "    print(result_reference)\n",
    "    \n",
    "    # check if they match\n",
    "    print(\"Match: \" + str(abs(result_affine.norm() - result_transformed) < 1e-15))"
   ]
  },
  {
   "cell_type": "code",
   "execution_count": 149,
   "metadata": {},
   "outputs": [
    {
     "data": {
      "text/latex": [
       "On triangle 1: $\\int_T \\epsilon(\\phi_{edg}) : \\epsilon(\\phi_{edg}) =  1.00000000000000$"
      ],
      "text/plain": [
       "<IPython.core.display.Latex object>"
      ]
     },
     "metadata": {},
     "output_type": "display_data"
    },
    {
     "name": "stdout",
     "output_type": "stream",
     "text": [
      "Matrix([[1.00000000000000]])\n",
      "Matrix([[1.00000000000000]])\n"
     ]
    },
    {
     "data": {
      "text/latex": [
       "On triangle 1 (Reference): $2 |T| \\int_{\\hat{T}} \\hat{\\epsilon}(A\\hat{\\phi}_{edg}):\\hat{\\epsilon}(\\hat{\\phi_{edg}})  =  1.00000000000000$"
      ],
      "text/plain": [
       "<IPython.core.display.Latex object>"
      ]
     },
     "metadata": {},
     "output_type": "display_data"
    },
    {
     "name": "stdout",
     "output_type": "stream",
     "text": [
      "Matrix([[1.00000000000000]])\n",
      "Match: False\n"
     ]
    },
    {
     "data": {
      "text/latex": [
       "On triangle 2: $\\int_T \\epsilon(\\phi_{edg}) : \\epsilon(\\phi_{edg}) =  0.900000000000000$"
      ],
      "text/plain": [
       "<IPython.core.display.Latex object>"
      ]
     },
     "metadata": {},
     "output_type": "display_data"
    },
    {
     "name": "stdout",
     "output_type": "stream",
     "text": [
      "Matrix([[0.900000000000000]])\n",
      "Matrix([[0.900000000000000]])\n"
     ]
    },
    {
     "data": {
      "text/latex": [
       "On triangle 2 (Reference): $2 |T| \\int_{\\hat{T}} \\hat{\\epsilon}(A\\hat{\\phi}_{edg}):\\hat{\\epsilon}(\\hat{\\phi_{edg}})  =  0.900000000000000$"
      ],
      "text/plain": [
       "<IPython.core.display.Latex object>"
      ]
     },
     "metadata": {},
     "output_type": "display_data"
    },
    {
     "name": "stdout",
     "output_type": "stream",
     "text": [
      "Matrix([[0.900000000000000]])\n",
      "Match: False\n"
     ]
    },
    {
     "data": {
      "text/plain": [
       "[None, None]"
      ]
     },
     "execution_count": 149,
     "metadata": {},
     "output_type": "execute_result"
    }
   ],
   "source": [
    "[check_volume_int(i, t) for t in range(1,3) for i in range(1)] # check volume integral for all basis functions and triangles"
   ]
  },
  {
   "cell_type": "markdown",
   "metadata": {},
   "source": []
  },
  {
   "cell_type": "code",
   "execution_count": null,
   "metadata": {},
   "outputs": [],
   "source": []
  }
 ],
 "metadata": {
  "kernelspec": {
   "display_name": "Python 3 (ipykernel)",
   "language": "python",
   "name": "python3"
  },
  "language_info": {
   "codemirror_mode": {
    "name": "ipython",
    "version": 3
   },
   "file_extension": ".py",
   "mimetype": "text/x-python",
   "name": "python",
   "nbconvert_exporter": "python",
   "pygments_lexer": "ipython3",
   "version": "3.9.12"
  }
 },
 "nbformat": 4,
 "nbformat_minor": 4
}
